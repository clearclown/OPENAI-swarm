{
 "cells": [
  {
   "cell_type": "code",
   "execution_count": 24,
   "metadata": {},
   "outputs": [],
   "source": [
    "# swarmからのインポート\n",
    "from swarm import Swarm, Agent\n",
    "# SwarmClientのインポートを一時的にコメントアウト\n",
    "# from swarm import SwarmClient\n",
    "from dotenv import load_dotenv\n",
    "import os\n",
    "import base64\n"
   ]
  },
  {
   "cell_type": "code",
   "execution_count": 25,
   "metadata": {},
   "outputs": [
    {
     "name": "stdout",
     "output_type": "stream",
     "text": [
      "/home/jovyan/work\n",
      "['.dockerignore', '.env', '.env.example', '1.ipynb', '1.py', '2.ipynb', 'docker-compose.yml', 'Dockerfile', 'IMG_3753.jpg', 'readme.md', 'repo', 'requirements.txt']\n"
     ]
    }
   ],
   "source": [
    "print(os.getcwd())\n",
    "print(os.listdir())"
   ]
  },
  {
   "cell_type": "code",
   "execution_count": 48,
   "metadata": {},
   "outputs": [],
   "source": [
    "\n",
    "# 環境変数の読み込み\n",
    "load_dotenv()\n",
    "\n",
    "OPENAI_API_KEY = os.getenv(\"OPENAI_API_KEY\", None)\n",
    "if OPENAI_API_KEY is None:\n",
    "    raise ValueError(\"OPENAI_API_KEY is not set in the environment variables.\")\n"
   ]
  },
  {
   "cell_type": "code",
   "execution_count": 49,
   "metadata": {},
   "outputs": [],
   "source": [
    "\n",
    "# クライアントの作成\n",
    "client = Swarm()\n"
   ]
  },
  {
   "cell_type": "code",
   "execution_count": 50,
   "metadata": {},
   "outputs": [],
   "source": [
    "\n",
    "# 画像をインポート\n",
    "def encode_image(image_path):\n",
    "    with open(image_path, \"rb\") as image_file:\n",
    "        return base64.b64encode(image_file.read()).decode('utf-8')\n"
   ]
  },
  {
   "cell_type": "code",
   "execution_count": 53,
   "metadata": {},
   "outputs": [],
   "source": [
    "# 質問をする(画像の文字起こし)\n",
    "def ocr_image(image_path):\n",
    "    \"\"\"\n",
    "    画像内のテキストを抽出する関数\n",
    "    \"\"\"\n",
    "    print(f\"[DEBUG] : {image_path}をbase64に変換\")\n",
    "    base64_image = encode_image(image_path)\n",
    "\n",
    "    print(f\"[DEBUG] : Swarmクライアントを使用してOCR処理を実行\")\n",
    "    response = client.run(\n",
    "        agent=Agent(\n",
    "            name=\"Agent\",\n",
    "            model=\"gpt-4o-mini\",\n",
    "            instructions=\"You are a helpful agent.\",\n",
    "        ),\n",
    "        messages=[\n",
    "            {\n",
    "                \"role\": \"user\",\n",
    "                \"content\": [\n",
    "                    {\"type\": \"text\", \"text\": \"この画像はなんですか?テキストをサボらずにすべて抽出して。項目をすべて抽出して。\"},\n",
    "                    {\"type\": \"image_url\", \"image_url\": {\"url\": f\"data:image/jpeg;base64,{base64_image}\"}}\n",
    "                ],\n",
    "            }\n",
    "        ],\n",
    "    )\n",
    "\n",
    "    print(f\"[DEBUG] : 抽出されたテキストを返す絶対に省略をしないこと。\")\n",
    "    return response.messages[-1][\"content\"]\n"
   ]
  },
  {
   "cell_type": "code",
   "execution_count": 54,
   "metadata": {},
   "outputs": [
    {
     "name": "stdout",
     "output_type": "stream",
     "text": [
      "[DEBUG] : ./IMG_3753.jpgをbase64に変換\n",
      "[DEBUG] : Swarmクライアントを使用してOCR処理を実行\n",
      "[DEBUG] : 抽出されたテキストを返す絶対に省略をしないこと。\n",
      "以下は画像から抽出したテキストです。\n",
      "\n",
      "```\n",
      "TSURUYA\n",
      "店舗番号 T31000010008319\n",
      "電話番号 TEL:0266-75-5101\n",
      "いつもご利用いただきありがとうございます\n",
      "ご利用明細\n",
      "----------------------------------------\n",
      "店番号:0000007   レシート番号:001003\n",
      "2024年9月20日 (金) 14:19\n",
      "A03  レジ番号:4785\n",
      "\n",
      "お客様番号:000003  R3819  14:19\n",
      "------------------------------------------------------\n",
      "  01 大吉 1/2              ￥379\n",
      "  02 生ビール              ￥429\n",
      "  03 焼酎                  ￥499\n",
      "  04 瓶ビール              ￥499\n",
      "  05 ソフトドリンク        ￥206\n",
      "  06 おつまみ            ￥579\n",
      "  07 おつまみ            ￥499\n",
      "  08 おつまみ            ￥379\n",
      "  09 各種おあげ         ￥206\n",
      "                                          ---\n",
      "                                      小計: ￥2,785\n",
      "\n",
      "------------------------------------------------------\n",
      "サービス料              8%\n",
      "                                        ￥206\n",
      "-----------------------------------------------\n",
      "合計                  ￥2,785\n",
      "-----------------------------------------------\n",
      "クレジットご請求書\n",
      "\n",
      "カード会社: WM\n",
      "カード番号: 4931-XXXX-XXXX-9874\n",
      "ご利用日: 2024年9月20日\n",
      "ご利用店: TSURUYA\n",
      "入金年月日: 2024年9月21日\n",
      "支払回数: 1回\n",
      "ご利用金額             ￥2,785\n",
      "\n",
      "<ご注意>\n",
      "財産・信用に関する保険<厳密な印刷は別途申し込み>\n",
      "保険を希望いたします。\n",
      "サインは除くとさせて頂きます\n",
      "PIN入力は不要です\n",
      "```\n",
      "\n",
      "必要な情報を全て抽出しました。\n"
     ]
    }
   ],
   "source": [
    "\n",
    "# 使用例\n",
    "image_path = './IMG_3753.jpg'\n",
    "result = ocr_image(image_path)\n",
    "print(result)\n"
   ]
  }
 ],
 "metadata": {
  "kernelspec": {
   "display_name": "Python 3 (ipykernel)",
   "language": "python",
   "name": "python3"
  },
  "language_info": {
   "codemirror_mode": {
    "name": "ipython",
    "version": 3
   },
   "file_extension": ".py",
   "mimetype": "text/x-python",
   "name": "python",
   "nbconvert_exporter": "python",
   "pygments_lexer": "ipython3",
   "version": "3.11.6"
  }
 },
 "nbformat": 4,
 "nbformat_minor": 2
}
